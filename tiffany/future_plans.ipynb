{
 "cells": [
  {
   "cell_type": "markdown",
   "id": "bd51f78f-845e-4f8d-9195-0cdc8ae48a28",
   "metadata": {},
   "source": [
    "## Methods and Plans ##"
   ]
  },
  {
   "cell_type": "markdown",
   "id": "770b0264-fdf0-42f8-8fde-5d9b6ce32925",
   "metadata": {},
   "source": [
    "Using players.csv, one method to address my question is training a ”knn classification model”  to label new player observations on how likely they will subscribe based on Age and played_hours. It is appropriate since the two predictor variables are numeric and I can wrangle \"subscribe\" as a factor type. Some assumptions are that the data plot will be heavily scattered and no apparent trend since the data pool is mostly university students, meaning the age of 10 - 30 has more observations. Some weaknesses are that \"subscribed\" is overrepresented in the dataset as seen in the scatterplot modeling, meaning we need to scale and center the data for \"unsubscribed\". We will use facet_grid() to also split played_hours vs Age by experience to better visualize the distribution. We will select the model based on the best k value by finding the smallest RMSPE. We will do cross validation using a 5 fold split of the data where training data is 70% and testing is 30%."
   ]
  }
 ],
 "metadata": {
  "kernelspec": {
   "display_name": "R",
   "language": "R",
   "name": "ir"
  },
  "language_info": {
   "codemirror_mode": "r",
   "file_extension": ".r",
   "mimetype": "text/x-r-source",
   "name": "R",
   "pygments_lexer": "r",
   "version": "4.3.3"
  }
 },
 "nbformat": 4,
 "nbformat_minor": 5
}
