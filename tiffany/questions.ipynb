{
 "cells": [
  {
   "cell_type": "markdown",
   "id": "371831ee-29d6-4885-b2c4-8bf09dc37001",
   "metadata": {},
   "source": [
    "## Broad Question ##\n",
    "\n",
    "_What player characteristics and behaviours are most predictive of subscribing to a game-related newsletter, and how do these features differ between various player types?_\n",
    "\n",
    "## Specific Question ##\n",
    "\n",
    "### Can age and experience in PLAIcraft predict the played hours in the players dataset? ###"
   ]
  },
  {
   "cell_type": "code",
   "execution_count": null,
   "id": "a96e1045-e67e-4552-9b8e-983eb97ab7ab",
   "metadata": {},
   "outputs": [],
   "source": []
  }
 ],
 "metadata": {
  "kernelspec": {
   "display_name": "R",
   "language": "R",
   "name": "ir"
  },
  "language_info": {
   "codemirror_mode": "r",
   "file_extension": ".r",
   "mimetype": "text/x-r-source",
   "name": "R",
   "pygments_lexer": "r",
   "version": "4.3.3"
  }
 },
 "nbformat": 4,
 "nbformat_minor": 5
}
