{
 "cells": [
  {
   "cell_type": "markdown",
   "id": "371831ee-29d6-4885-b2c4-8bf09dc37001",
   "metadata": {},
   "source": [
    "## Broad Question ##\n",
    "\n",
    "_What player characteristics and behaviours are most predictive of subscribing to a game-related newsletter, and how do these features differ between various player types?_\n",
    "\n",
    "## Specific Question ##\n",
    "\n",
    "### _Can age and played hours in PLAIcraft predict the likelihood of the players subscribing to a game-related newsletter?_ ###"
   ]
  },
  {
   "cell_type": "markdown",
   "id": "cf11bfb2-7d5d-4a89-8196-0754e1970a2c",
   "metadata": {},
   "source": [
    "The predictor variables \"Age\" and \"played_hours\" can help visualize the relationship of user interactions to subscribed players. I will wrangle the dataset where subscrive is treated as a factor. Then I can use the knn classification model to observe the nearest neighbor and determine subscription status.\n"
   ]
  }
 ],
 "metadata": {
  "kernelspec": {
   "display_name": "R",
   "language": "R",
   "name": "ir"
  },
  "language_info": {
   "codemirror_mode": "r",
   "file_extension": ".r",
   "mimetype": "text/x-r-source",
   "name": "R",
   "pygments_lexer": "r",
   "version": "4.3.3"
  }
 },
 "nbformat": 4,
 "nbformat_minor": 5
}
