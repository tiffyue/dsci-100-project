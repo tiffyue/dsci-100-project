{
 "cells": [
  {
   "cell_type": "markdown",
   "id": "371831ee-29d6-4885-b2c4-8bf09dc37001",
   "metadata": {},
   "source": [
    "## Broad Question ##\n",
    "\n",
    "_What player characteristics and behaviours are most predictive of subscribing to a game-related newsletter, and how do these features differ between various player types?_\n",
    "\n",
    "## Specific Question ##\n",
    "\n",
    "### _Can experience and played hours in PLAIcraft predict the likelihood of the players subscribing to a game-related newsletter?_ ###"
   ]
  },
  {
   "cell_type": "markdown",
   "id": "cf11bfb2-7d5d-4a89-8196-0754e1970a2c",
   "metadata": {},
   "source": [
    "The players dataset will aid in answering my question because the two predictor variables can help visualize the grouping on how user interaction correlates to the distribution of subscribed players. To effectively plot this, I will wrangle the dataset where I plot a bar graph that is grouped by experience with hours played on the y axis where the bar color is the subscription status. Then I can further improve my classification analysis on the graph by grouping the data by experience and finding out if the top players are more likely to subscribe to the newsletter.   "
   ]
  }
 ],
 "metadata": {
  "kernelspec": {
   "display_name": "R",
   "language": "R",
   "name": "ir"
  },
  "language_info": {
   "codemirror_mode": "r",
   "file_extension": ".r",
   "mimetype": "text/x-r-source",
   "name": "R",
   "pygments_lexer": "r",
   "version": "4.3.3"
  }
 },
 "nbformat": 4,
 "nbformat_minor": 5
}
